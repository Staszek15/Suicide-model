{
 "cells": [
  {
   "cell_type": "code",
   "execution_count": 3,
   "metadata": {},
   "outputs": [],
   "source": [
    "import numpy as np"
   ]
  },
  {
   "cell_type": "code",
   "execution_count": 4,
   "metadata": {},
   "outputs": [],
   "source": [
    "# based traits\n",
    "traits = {'age' : None,\n",
    "          'gender' : None,\n",
    "          'race' : None,\n",
    "          'mental disorder' : None,\n",
    "          'medical disorder' : None,\n",
    "          'suport factor' : None}"
   ]
  },
  {
   "cell_type": "markdown",
   "metadata": {},
   "source": [
    "Po pierwsze trzeba zdefiniować, jak będzie chcieli pogrupować społeczności (znajomych) względem agenta. Albo na sztywno robimy \"patch\", które będą oznaczać naszą społeczność, albo robimy jakiś clustering (ale nie brałbym wszystkich), albo jeszcze inny sposób.\n",
    "\n",
    "Podstawowy sposób w jaki się generuje samobójstwa to bierze się wartości cech, dla każdej cechy ustala się wartość graniczną (threshold), której po przekroczeniu zwiększa się ryzyko popełnienia samobójstwa dla danej cechy. Czyli {1 - q, 1 + q}, gdzie q to ustalona wartość. \n",
    "\n",
    "Czyli parwdopodobieństwo popełnienia samobójstwa będzie równe \n",
    "\n",
    "$$ p_{new} = p_{old}\\cdot\\prod_{i=1}^{6}(1 \\pm q_i)$$\n",
    "\n",
    "\n"
   ]
  },
  {
   "cell_type": "markdown",
   "metadata": {},
   "source": [
    "Keywords:\n",
    "- social learning"
   ]
  },
  {
   "cell_type": "code",
   "execution_count": 37,
   "metadata": {},
   "outputs": [],
   "source": [
    "class Community:\n",
    "\n",
    "    def __init__(self, M, stats, q = .2):\n",
    "        # M is size of patch\n",
    "        self.M = M\n",
    "        self.q = q\n",
    "        self.patch = np.zeros(shape = (M, len(stats) + 2), dtype=object) # community patch\n",
    "        self.stats = stats # teraz zakładam, że te staty dla agentów są stałe, i tylko na początku są losowane\n",
    "\n",
    "    def _agents_stats(self, stats_prob, celeb_prob = 10**(-4)):\n",
    "        # add agent to community\n",
    "        return np.array([1.1 * 10**(-5), 1 if np.random.uniform() < celeb_prob else 0] + [1 if np.random.uniform() < prob else 0 for prob in stats_prob])\n",
    "    \n",
    "    def _fill_community(self):\n",
    "        # add agent to community\n",
    "        for i in range(self.M):\n",
    "            self.patch[i] = self._agents_stats(self.stats)\n",
    "    \n",
    "    def _suicide_status(self):\n",
    "        suicidal_in = []\n",
    "        suicidal_cele = []\n",
    "        suicidal_index = []\n",
    "        suicide_prob = lambda stats, q : min(stats[0] * np.prod([1 + q if stat == 1 else 1 - q for stat in stats[2:]]),1)\n",
    "        for i in range(self.M):\n",
    "            self.patch[i][0] = suicide_prob(stats = self.patch[i], q = self.q)\n",
    "            #print(self.patch[i][0])\n",
    "            # the talk about suicidal within 3 past time ticks, but i dont get it.\n",
    "            if np.random.binomial(1,self.patch[i][0]) == 1:\n",
    "                suicidal_index.append(i) \n",
    "                if self.patch[i][0] == 0:\n",
    "                    suicidal_in.append([i,self.patch[i][1:]])\n",
    "                else:\n",
    "                    suicidal_cele.append([i,self.patch[i][1:]])\n",
    "        \n",
    "        return suicidal_in, suicidal_cele, suicidal_index\n",
    "    \n",
    "    def _copycat_suicide(self, celebrities = [], suicidal = [], index = []):\n",
    "        suicidal = suicidal + celebrities \n",
    "        if len(suicidal) > 0:\n",
    "            print(len(suicidal))\n",
    "            for j in range(self.M):\n",
    "                xn = []\n",
    "                xs = []\n",
    "\n",
    "                for _, stats in suicidal:\n",
    "\n",
    "                    m = np.sum(self.patch[j, 2:] == stats[1:])\n",
    "                    if stats[0] == 0:\n",
    "                        # from book, the suicide of normal agents impact community have value 1.5\n",
    "                        xn.append(1.01 ** (m ** 2) * 1.5)\n",
    "                    else:\n",
    "                        # from book, the suicide of celebrities agents impact community have value 8\n",
    "                        xs.append(1.01 ** (m ** 2) * 8)\n",
    "                    \n",
    "                self.patch[j][0] = min(self.patch[j][0] * (1 + sum(xn) + sum(xs)),1)   \n",
    "                \n",
    "            for ind in index:\n",
    "                self.patch[ind] = self._agents_stats(self.stats)\n",
    "                \n",
    "    def _simulation(self,steps):\n",
    "        \n",
    "        self._fill_community()\n",
    "        \n",
    "        for _ in range(steps):\n",
    "            suicide_in, suicidal_cele, index = self._suicide_status()\n",
    "            self._copycat_suicide(suicide_in, suicidal_cele, index)\n",
    "            #print(\"=\"*40)"
   ]
  },
  {
   "cell_type": "code",
   "execution_count": 41,
   "metadata": {},
   "outputs": [],
   "source": [
    "class World:\n",
    "\n",
    "    def __init__(self, N, M , stats):\n",
    "        self.N = N\n",
    "        self.M = M\n",
    "        self.stats = stats\n",
    "        self.word_suicidal = np.zeros(shape = (M,M))\n",
    "        self.communities = np.empty(shape =(M,M),dtype=object)\n",
    "        self.celebrities_suicide = []\n",
    "    \n",
    "    def __init_communities__(self):\n",
    "\n",
    "        for i in range(self.M):\n",
    "            for j in range(self.M):\n",
    "                \n",
    "                self.communities[i, j] = Community(self.N,self.stats, q = 0.2)\n",
    "                self.communities[i, j]._fill_community()\n",
    "\n",
    "    def __suicide_status__(self):\n",
    "        suicidal_celebrities = []\n",
    "        suicidal_ins = np.empty(shape =(self.M,self.M),dtype=object)\n",
    "        for i in range(self.M):\n",
    "            for j in range(self.M):\n",
    "\n",
    "                suicide_in, suicidal_cele, index = self.communities[i,j]._suicide_status()\n",
    "                suicidal_celebrities.extend(suicidal_cele)\n",
    "                suicidal_ins[i,j] = [suicide_in, index]\n",
    "                self.word_suicidal[i,j] = len(index)\n",
    "\n",
    "        for i in range(self.M):\n",
    "            for j in range(self.M): \n",
    "                self.communities[i, j]._copycat_suicide(suicidal_ins[i,j][0], suicidal_celebrities, suicidal_ins[i,j][1])\n",
    "\n",
    "    def __simulation__(self,steps):\n",
    "        word_times = []\n",
    "        self.__init_communities__()\n",
    "        for _ in range(steps):\n",
    "            self.__suicide_status__()\n",
    "            word_times.append(self.word_suicidal)\n",
    "            self.word_suicidal = np.zeros_like(self.word_suicidal)\n",
    "            print(_)\n",
    "\n",
    "        return word_times\n"
   ]
  },
  {
   "cell_type": "code",
   "execution_count": 26,
   "metadata": {},
   "outputs": [],
   "source": [
    "community = Community(100, [0.774, 0.483, 0.767, 0.186, 0.1, 0.2])\n",
    "community._simulation(60)"
   ]
  },
  {
   "cell_type": "code",
   "execution_count": 44,
   "metadata": {},
   "outputs": [
    {
     "name": "stdout",
     "output_type": "stream",
     "text": [
      "0\n",
      "1\n",
      "2\n",
      "3\n",
      "4\n",
      "5\n",
      "6\n",
      "7\n",
      "8\n",
      "9\n"
     ]
    },
    {
     "ename": "KeyboardInterrupt",
     "evalue": "",
     "output_type": "error",
     "traceback": [
      "\u001b[1;31m---------------------------------------------------------------------------\u001b[0m",
      "\u001b[1;31mKeyboardInterrupt\u001b[0m                         Traceback (most recent call last)",
      "Cell \u001b[1;32mIn[44], line 2\u001b[0m\n\u001b[0;32m      1\u001b[0m class1 \u001b[38;5;241m=\u001b[39m World(\u001b[38;5;241m50\u001b[39m,\u001b[38;5;241m10\u001b[39m,[\u001b[38;5;241m0.774\u001b[39m, \u001b[38;5;241m0.483\u001b[39m, \u001b[38;5;241m0.767\u001b[39m, \u001b[38;5;241m0.186\u001b[39m, \u001b[38;5;241m0.1\u001b[39m, \u001b[38;5;241m0.2\u001b[39m])\n\u001b[1;32m----> 2\u001b[0m xd \u001b[38;5;241m=\u001b[39m class1\u001b[38;5;241m.\u001b[39m__simulation__(\u001b[38;5;241m60\u001b[39m)\n",
      "Cell \u001b[1;32mIn[41], line 38\u001b[0m, in \u001b[0;36mWorld.__simulation__\u001b[1;34m(self, steps)\u001b[0m\n\u001b[0;32m     36\u001b[0m \u001b[38;5;28mself\u001b[39m\u001b[38;5;241m.\u001b[39m__init_communities__()\n\u001b[0;32m     37\u001b[0m \u001b[38;5;28;01mfor\u001b[39;00m _ \u001b[38;5;129;01min\u001b[39;00m \u001b[38;5;28mrange\u001b[39m(steps):\n\u001b[1;32m---> 38\u001b[0m     \u001b[38;5;28mself\u001b[39m\u001b[38;5;241m.\u001b[39m__suicide_status__()\n\u001b[0;32m     39\u001b[0m     word_times\u001b[38;5;241m.\u001b[39mappend(\u001b[38;5;28mself\u001b[39m\u001b[38;5;241m.\u001b[39mword_suicidal)\n\u001b[0;32m     40\u001b[0m     \u001b[38;5;28mself\u001b[39m\u001b[38;5;241m.\u001b[39mword_suicidal \u001b[38;5;241m=\u001b[39m np\u001b[38;5;241m.\u001b[39mzeros_like(\u001b[38;5;28mself\u001b[39m\u001b[38;5;241m.\u001b[39mword_suicidal)\n",
      "Cell \u001b[1;32mIn[41], line 32\u001b[0m, in \u001b[0;36mWorld.__suicide_status__\u001b[1;34m(self)\u001b[0m\n\u001b[0;32m     30\u001b[0m \u001b[38;5;28;01mfor\u001b[39;00m i \u001b[38;5;129;01min\u001b[39;00m \u001b[38;5;28mrange\u001b[39m(\u001b[38;5;28mself\u001b[39m\u001b[38;5;241m.\u001b[39mM):\n\u001b[0;32m     31\u001b[0m     \u001b[38;5;28;01mfor\u001b[39;00m j \u001b[38;5;129;01min\u001b[39;00m \u001b[38;5;28mrange\u001b[39m(\u001b[38;5;28mself\u001b[39m\u001b[38;5;241m.\u001b[39mM): \n\u001b[1;32m---> 32\u001b[0m         \u001b[38;5;28mself\u001b[39m\u001b[38;5;241m.\u001b[39mcommunities[i, j]\u001b[38;5;241m.\u001b[39m_copycat_suicide(suicidal_ins[i,j][\u001b[38;5;241m0\u001b[39m], suicidal_celebrities, suicidal_ins[i,j][\u001b[38;5;241m1\u001b[39m])\n",
      "Cell \u001b[1;32mIn[37], line 47\u001b[0m, in \u001b[0;36mCommunity._copycat_suicide\u001b[1;34m(self, celebrities, suicidal, index)\u001b[0m\n\u001b[0;32m     43\u001b[0m xs \u001b[38;5;241m=\u001b[39m []\n\u001b[0;32m     45\u001b[0m \u001b[38;5;28;01mfor\u001b[39;00m _, stats \u001b[38;5;129;01min\u001b[39;00m suicidal:\n\u001b[1;32m---> 47\u001b[0m     m \u001b[38;5;241m=\u001b[39m np\u001b[38;5;241m.\u001b[39msum(\u001b[38;5;28mself\u001b[39m\u001b[38;5;241m.\u001b[39mpatch[j, \u001b[38;5;241m2\u001b[39m:] \u001b[38;5;241m==\u001b[39m stats[\u001b[38;5;241m1\u001b[39m:])\n\u001b[0;32m     48\u001b[0m     \u001b[38;5;28;01mif\u001b[39;00m stats[\u001b[38;5;241m0\u001b[39m] \u001b[38;5;241m==\u001b[39m \u001b[38;5;241m0\u001b[39m:\n\u001b[0;32m     49\u001b[0m         \u001b[38;5;66;03m# from book, the suicide of normal agents impact community have value 1.5\u001b[39;00m\n\u001b[0;32m     50\u001b[0m         xn\u001b[38;5;241m.\u001b[39mappend(\u001b[38;5;241m1.01\u001b[39m \u001b[38;5;241m*\u001b[39m\u001b[38;5;241m*\u001b[39m (m \u001b[38;5;241m*\u001b[39m\u001b[38;5;241m*\u001b[39m \u001b[38;5;241m2\u001b[39m) \u001b[38;5;241m*\u001b[39m \u001b[38;5;241m1.5\u001b[39m)\n",
      "File \u001b[1;32m<__array_function__ internals>:177\u001b[0m, in \u001b[0;36msum\u001b[1;34m(*args, **kwargs)\u001b[0m\n",
      "\u001b[1;31mKeyboardInterrupt\u001b[0m: "
     ]
    }
   ],
   "source": [
    "# nie odpalać z powodu dużej ilości samobójstw\n",
    "class1 = World(50,10,[0.774, 0.483, 0.767, 0.186, 0.1, 0.2])\n",
    "xd = class1.__simulation__(60)"
   ]
  }
 ],
 "metadata": {
  "kernelspec": {
   "display_name": "MIcha",
   "language": "python",
   "name": "python3"
  },
  "language_info": {
   "codemirror_mode": {
    "name": "ipython",
    "version": 3
   },
   "file_extension": ".py",
   "mimetype": "text/x-python",
   "name": "python",
   "nbconvert_exporter": "python",
   "pygments_lexer": "ipython3",
   "version": "3.11.8"
  }
 },
 "nbformat": 4,
 "nbformat_minor": 2
}
